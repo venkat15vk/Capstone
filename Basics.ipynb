{
 "cells": [
  {
   "cell_type": "code",
   "execution_count": 3,
   "metadata": {
    "collapsed": false
   },
   "outputs": [
    {
     "name": "stdout",
     "output_type": "stream",
     "text": [
      "5\n",
      "1.5\n"
     ]
    }
   ],
   "source": [
    "# testing class\n",
    "class calculator():\n",
    "    def add(x,y):\n",
    "        return (x+y)\n",
    "    \n",
    "    def product(x,y):\n",
    "        return(x*y)\n",
    "    \n",
    "    def divide(x,y):\n",
    "        return(float(x)/float(y))\n",
    "    \n",
    "    \n",
    "\n",
    "print (calculator.add(2,3))\n",
    "print (calculator.divide(3,2))"
   ]
  },
  {
   "cell_type": "code",
   "execution_count": 13,
   "metadata": {
    "collapsed": false
   },
   "outputs": [
    {
     "name": "stdout",
     "output_type": "stream",
     "text": [
      "the items are a\n",
      "the items are b\n",
      "the items are c\n",
      "the items are e\n",
      "the items are t\n",
      "venkat.krishnan@citadel.com\n",
      "venky@uchicago.edu\n",
      "Name is Venkat K and email is venkat.krishnan@citadel.com\n",
      "Name is Venkat Krishnan and email is venky@uchicago.edu\n"
     ]
    }
   ],
   "source": [
    "# testing lists and dictionaries\n",
    "\n",
    "li = ['a','b','c','e', 't']\n",
    "li.sort()\n",
    "for z in li:\n",
    "    print ('the items are' + ' ' + z)\n",
    "    \n",
    "    \n",
    "dc = {'Venkat Krishnan': 'venky@uchicago.edu', 'Venkat K': 'venkat.krishnan@citadel.com'}\n",
    "\n",
    "for name in dc.values():\n",
    "    print (name)\n",
    "\n",
    "for name, email in dc.items():\n",
    "    print ('Name is ' + name + ' and email is ' + email)"
   ]
  },
  {
   "cell_type": "code",
   "execution_count": 51,
   "metadata": {
    "collapsed": false
   },
   "outputs": [
    {
     "data": {
      "text/plain": [
       "datetime.datetime(2018, 1, 21, 6, 26, 5, 251425)"
      ]
     },
     "execution_count": 51,
     "metadata": {},
     "output_type": "execute_result"
    }
   ],
   "source": [
    "import csv\n",
    "import datetime as dt\n",
    "\n",
    "#with open('/Users/VK/Desktop/UChicago/playground/python/NFLX.csv') as csvh:\n",
    "#    data = csv.reader(csvh)\n",
    "    \n",
    "#for line in data:\n",
    " #   print (line.header())\n",
    "\n",
    "\n",
    "data = None\n",
    "today = dt.datetime.now()\n",
    "\n",
    "today\n",
    "\n",
    "#with open('/Users/VK/Desktop/UChicago/playground/python/NFLX.csv') as csvhandle:\n",
    "#    data = list(csv.DictReader(csvhandle))\n",
    "\n",
    "    \n",
    "    \n",
    "#with open('/Users/VK/Desktop/UChicago/playground/python/NFLX.csv') as csvfile:\n",
    "#    data = list(csv.DictReader(csvfile))\n",
    "    \n",
    "\n",
    "\n",
    "\n",
    "#sum(float(d['CLOSE']) for d in data)/len(data)"
   ]
  },
  {
   "cell_type": "code",
   "execution_count": 13,
   "metadata": {
    "collapsed": false
   },
   "outputs": [
    {
     "name": "stdout",
     "output_type": "stream",
     "text": [
      "PEACE\n",
      "[9, 16, 25, 36]\n"
     ]
    }
   ],
   "source": [
    "# map, lambda, reduce, filter\n",
    "\n",
    "\n",
    "# lamda\n",
    "\n",
    "sm = lambda x,y: x if(x>y) else y\n",
    "m = lambda x: x.upper()\n",
    "\n",
    "sm(5,8)\n",
    "print (m('peace'))\n",
    "\n",
    "# map\n",
    "\n",
    "n = [3,4,5,6]\n",
    "\n",
    "print (list(map(lambda x:x**2,n)))\n"
   ]
  },
  {
   "cell_type": "code",
   "execution_count": null,
   "metadata": {
    "collapsed": true
   },
   "outputs": [],
   "source": []
  }
 ],
 "metadata": {
  "kernelspec": {
   "display_name": "Python [conda root]",
   "language": "python",
   "name": "conda-root-py"
  },
  "language_info": {
   "codemirror_mode": {
    "name": "ipython",
    "version": 3
   },
   "file_extension": ".py",
   "mimetype": "text/x-python",
   "name": "python",
   "nbconvert_exporter": "python",
   "pygments_lexer": "ipython3",
   "version": "3.5.2"
  }
 },
 "nbformat": 4,
 "nbformat_minor": 1
}
