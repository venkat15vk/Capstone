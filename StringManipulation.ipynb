{
 "cells": [
  {
   "cell_type": "code",
   "execution_count": 45,
   "metadata": {
    "collapsed": false
   },
   "outputs": [
    {
     "data": {
      "text/plain": [
       "174.93502549053116"
      ]
     },
     "execution_count": 45,
     "metadata": {},
     "output_type": "execute_result"
    }
   ],
   "source": [
    "import csv \n",
    "import datetime as dt\n",
    "\n",
    "\n",
    "dt.datetime.now()\n",
    "\n",
    "with open('/Users/VK/Desktop/UChicago/playground/python/NFLX.csv') as csvhandle:\n",
    "    #data = csv.reader(csvhandle)\n",
    "    dataDict = list(csv.DictReader(csvhandle))\n",
    "    \n",
    "    \n",
    "sum(float(d['LOW']) for d in dataDict)/len(dataDict)\n",
    "    \n"
   ]
  },
  {
   "cell_type": "code",
   "execution_count": 84,
   "metadata": {
    "collapsed": false
   },
   "outputs": [
    {
     "name": "stdout",
     "output_type": "stream",
     "text": [
      "['Dr. Brooks', 'Dr. Collins-Thompson', 'Dr. Vydiswaran', 'Dr. Romero']\n"
     ]
    }
   ],
   "source": [
    "people = ['Dr. Christopher Brooks', 'Dr. Kevyn Collins-Thompson', 'Dr. VG Vinod Vydiswaran', 'Dr. Daniel Romero']\n",
    "\n",
    "#lastnames = name.split()[0] + ' ' + name.split()[-1] for name in people\n",
    "\n",
    "\n",
    "final = [(name.split()[0] + ' ' + name.split()[-1]) for name in people]\n",
    "\n",
    "print(final)\n",
    "#def split_title_and_name(person):\n",
    "#    title = person.split()[0]\n",
    "#    lastname = person.split()[-1]\n",
    "#    return '{} {}'.format(title, lastname)\n",
    "\n",
    "#list(map(split_title_and_name, people))\n",
    "\n"
   ]
  },
  {
   "cell_type": "code",
   "execution_count": null,
   "metadata": {
    "collapsed": true
   },
   "outputs": [],
   "source": []
  }
 ],
 "metadata": {
  "anaconda-cloud": {},
  "kernelspec": {
   "display_name": "Python [default]",
   "language": "python",
   "name": "python3"
  },
  "language_info": {
   "codemirror_mode": {
    "name": "ipython",
    "version": 3
   },
   "file_extension": ".py",
   "mimetype": "text/x-python",
   "name": "python",
   "nbconvert_exporter": "python",
   "pygments_lexer": "ipython3",
   "version": "3.5.2"
  }
 },
 "nbformat": 4,
 "nbformat_minor": 1
}
